{
  "cells": [
    {
      "cell_type": "markdown",
      "metadata": {
        "id": "view-in-github",
        "colab_type": "text"
      },
      "source": [
        "<a href=\"https://colab.research.google.com/github/cowboyslyrics/Stars/blob/main/ComplexRootsOfUnity.ipynb\" target=\"_parent\"><img src=\"https://colab.research.google.com/assets/colab-badge.svg\" alt=\"Open In Colab\"/></a>"
      ]
    },
    {
      "cell_type": "markdown",
      "id": "c7a6d3a8-5935-472c-b313-0118b44d6bb2",
      "metadata": {
        "id": "c7a6d3a8-5935-472c-b313-0118b44d6bb2"
      },
      "source": [
        "# Complex Roots Of Unity"
      ]
    },
    {
      "cell_type": "code",
      "execution_count": null,
      "id": "8d961556-c841-47ae-9237-1c8d7279ef80",
      "metadata": {
        "id": "8d961556-c841-47ae-9237-1c8d7279ef80"
      },
      "outputs": [],
      "source": [
        "import sympy as sym\n",
        "from IPython.display import display,Math\n",
        "import numpy as np\n",
        "import matplotlib.pyplot as plt\n",
        "import warnings\n",
        "warnings.filterwarnings(\"ignore\")"
      ]
    },
    {
      "cell_type": "code",
      "execution_count": null,
      "id": "b9587553-a395-4f57-b947-328f7bdbd077",
      "metadata": {
        "id": "b9587553-a395-4f57-b947-328f7bdbd077"
      },
      "outputs": [],
      "source": [
        "x,y,h,t,c=sym.symbols('x,y,h,t,c')"
      ]
    },
    {
      "cell_type": "code",
      "execution_count": null,
      "id": "6bae0dc8-7dcd-48df-9111-3ca76c643e4c",
      "metadata": {
        "id": "6bae0dc8-7dcd-48df-9111-3ca76c643e4c",
        "outputId": "2174eb1b-2cfa-4b69-ad8a-de837d2785a4"
      },
      "outputs": [
        {
          "data": {
            "text/latex": [
              "$\\displaystyle (1)^{6} \\Rightarrow 1$"
            ],
            "text/plain": [
              "<IPython.core.display.Math object>"
            ]
          },
          "metadata": {},
          "output_type": "display_data"
        },
        {
          "data": {
            "text/latex": [
              "$\\displaystyle (e^{\\frac{i \\pi}{3}})^{6} \\Rightarrow 1$"
            ],
            "text/plain": [
              "<IPython.core.display.Math object>"
            ]
          },
          "metadata": {},
          "output_type": "display_data"
        },
        {
          "data": {
            "text/latex": [
              "$\\displaystyle (e^{\\frac{2 i \\pi}{3}})^{6} \\Rightarrow 1$"
            ],
            "text/plain": [
              "<IPython.core.display.Math object>"
            ]
          },
          "metadata": {},
          "output_type": "display_data"
        },
        {
          "data": {
            "text/latex": [
              "$\\displaystyle (-1)^{6} \\Rightarrow 1$"
            ],
            "text/plain": [
              "<IPython.core.display.Math object>"
            ]
          },
          "metadata": {},
          "output_type": "display_data"
        },
        {
          "data": {
            "text/latex": [
              "$\\displaystyle (e^{- \\frac{2 i \\pi}{3}})^{6} \\Rightarrow 1$"
            ],
            "text/plain": [
              "<IPython.core.display.Math object>"
            ]
          },
          "metadata": {},
          "output_type": "display_data"
        },
        {
          "data": {
            "text/latex": [
              "$\\displaystyle (e^{- \\frac{i \\pi}{3}})^{6} \\Rightarrow 1$"
            ],
            "text/plain": [
              "<IPython.core.display.Math object>"
            ]
          },
          "metadata": {},
          "output_type": "display_data"
        }
      ],
      "source": [
        "n=6\n",
        "for k in range(0,n):\n",
        "    z=sym.exp(2*sym.pi*sym.I*k/n)\n",
        "    display(Math('(%s)^{%s} \\\\Rightarrow %s' %(sym.latex(z),n,sym.latex(z**n))))"
      ]
    },
    {
      "cell_type": "code",
      "execution_count": null,
      "id": "d990cbae-3697-40e8-be0b-46fa4ebe64ec",
      "metadata": {
        "id": "d990cbae-3697-40e8-be0b-46fa4ebe64ec",
        "outputId": "122d308b-4b3d-40e6-d967-b31e9e04942f"
      },
      "outputs": [
        {
          "data": {
            "text/latex": [
              "$\\displaystyle - i$"
            ],
            "text/plain": [
              "-I"
            ]
          },
          "execution_count": 4,
          "metadata": {},
          "output_type": "execute_result"
        }
      ],
      "source": []
    },
    {
      "cell_type": "code",
      "execution_count": null,
      "id": "bdf37204-be88-44d6-aacd-ade63045d4da",
      "metadata": {
        "id": "bdf37204-be88-44d6-aacd-ade63045d4da",
        "outputId": "c88a8f04-0898-4fb1-dda3-fb594d3290f2"
      },
      "outputs": [
        {
          "data": {
            "image/png": "[encoded data removed]",
            "text/plain": [
              "<Figure size 432x288 with 1 Axes>"
            ]
          },
          "metadata": {
            "needs_background": "light"
          },
          "output_type": "display_data"
        }
      ],
      "source": [
        "plt.axis([-3,3,0,1.1])\n",
        "g=np.exp(c*np.log(2)*t**2/h**2)\n",
        "plt.plot(t,g)\n",
        "plt.xlabel('t')\n",
        "plt.ylabel('y')\n",
        "plt.grid()\n",
        "plt.title('Gaussian with FWHM=' + str(h))\n",
        "plt.show()"
      ]
    },
    {
      "cell_type": "code",
      "execution_count": null,
      "id": "8bf9d7f4-f964-4dc5-b2ce-22aba884eccb",
      "metadata": {
        "id": "8bf9d7f4-f964-4dc5-b2ce-22aba884eccb"
      },
      "outputs": [],
      "source": [
        "yval2find=0.5\n",
        "vals=np.zeros([10,10])\n",
        "for i in range(1,11):\n",
        "    for c in range(1,11):\n",
        "        vals[i-1][c-1]=i*np.sqrt(np.log(yval2find)/(-c*np.log(2)))\n",
        "        "
      ]
    },
    {
      "cell_type": "markdown",
      "id": "c66bd283-5ea0-4c0c-b092-49431afa68ed",
      "metadata": {
        "id": "c66bd283-5ea0-4c0c-b092-49431afa68ed"
      },
      "source": [
        "<img src='gaussian.jpg' height=500 width=750>"
      ]
    },
    {
      "cell_type": "code",
      "execution_count": null,
      "id": "807bb187-be35-4ba3-a1a5-2daac38ca1b9",
      "metadata": {
        "id": "807bb187-be35-4ba3-a1a5-2daac38ca1b9",
        "outputId": "538c6b32-2311-42c7-c1cb-5f7ca02866a1"
      },
      "outputs": [
        {
          "data": {
            "image/png": "[encoded data removed]",
            "text/plain": [
              "<Figure size 432x288 with 1 Axes>"
            ]
          },
          "metadata": {
            "needs_background": "light"
          },
          "output_type": "display_data"
        }
      ],
      "source": [
        "N=100\n",
        "G=np.zeros((N,len(t)))\n",
        "h=np.zeros(N)\n",
        "for i in range(N):\n",
        "    h[i]=(i+1)/N\n",
        "    G[i:,]=np.exp(-4*np.log(2)*t**2/h[i]**2)\n",
        "plt.pcolormesh(t,h,G)\n",
        "plt.xlabel('t')\n",
        "plt.ylabel('h')\n",
        "plt.show()"
      ]
    }
  ],
  "metadata": {
    "kernelspec": {
      "display_name": "Python 3 (ipykernel)",
      "language": "python",
      "name": "python3"
    },
    "language_info": {
      "codemirror_mode": {
        "name": "ipython",
        "version": 3
      },
      "file_extension": ".py",
      "mimetype": "text/x-python",
      "name": "python",
      "nbconvert_exporter": "python",
      "pygments_lexer": "ipython3",
      "version": "3.8.8"
    },
    "colab": {
      "name": "ComplexRootsOfUnity.ipynb",
      "provenance": [],
      "include_colab_link": true
    }
  },
  "nbformat": 4,
  "nbformat_minor": 5
}